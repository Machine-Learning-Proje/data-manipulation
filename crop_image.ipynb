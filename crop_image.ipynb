{
 "cells": [
  {
   "cell_type": "code",
   "execution_count": 1,
   "metadata": {},
   "outputs": [
    {
     "name": "stderr",
     "output_type": "stream",
     "text": [
      "C:\\Users\\ASUS\\anaconda3\\lib\\site-packages\\numpy\\_distributor_init.py:30: UserWarning: loaded more than 1 DLL from .libs:\n",
      "C:\\Users\\ASUS\\anaconda3\\lib\\site-packages\\numpy\\.libs\\libopenblas.GK7GX5KEQ4F6UYO3P26ULGBQYHGQO7J4.gfortran-win_amd64.dll\n",
      "C:\\Users\\ASUS\\anaconda3\\lib\\site-packages\\numpy\\.libs\\libopenblas.PYQHXLVVQ7VESDPUVUADXEVJOBGHJPAY.gfortran-win_amd64.dll\n",
      "  warnings.warn(\"loaded more than 1 DLL from .libs:\"\n"
     ]
    }
   ],
   "source": [
    "import cv2\n",
    "import numpy as np \n",
    "import matplotlib.pyplot as plt"
   ]
  },
  {
   "cell_type": "code",
   "execution_count": null,
   "metadata": {},
   "outputs": [],
   "source": [
    "img = cv2.imread(r'C:\\Users\\ASUS\\Desktop\\our project\\Dataset\\axial - 8 slices\\Alzheimer_s Dataset\\train\\MildDemented\\mildDem2.jpg',cv2.IMREAD_COLOR)\n",
    "\n",
    "copy = img.copy()\n",
    "cv2.ellipse(copy,(87,100),(40,60),0,0,360,(0,0,0),-1)\n",
    "low = np.array([40,40,40])\n",
    "high = np.array([120,120,120])\n",
    "mask = cv2.inRange(img,low,high)\n",
    "\n",
    "#plt.imshow(mask,'gray')\n",
    "contours, hierarchy = cv2.findContours(mask, cv2.RETR_EXTERNAL, cv2.CHAIN_APPROX_NONE) \n",
    "cont_img = cv2.drawContours(img, contours, -1, (255,0,0),1)\n",
    "\n",
    "#plt.imshow(cont_img)\n",
    "c = max(contours, key = cv2.contourArea)\n",
    "x,y,w,h = cv2.boundingRect(c)\n",
    "cv2.rectangle(img,(x,y),(x+w,y+h),(255,0,0),1)\n",
    "cropped = copy[y:y+h,x:x+w]\n",
    "gray = cv2.cvtColor(cropped,cv2.COLOR_RGB2GRAY)\n",
    "\n",
    "#plt.imshow(cropped)\n",
    "#plt.hist(gray.ravel())\n",
    "cv2.imshow('cropped',gray)\n",
    "\n",
    "cv2.waitKey()\n",
    "cv2.destroyAllWindows()"
   ]
  }
 ],
 "metadata": {
  "kernelspec": {
   "display_name": "Python 3",
   "language": "python",
   "name": "python3"
  },
  "language_info": {
   "codemirror_mode": {
    "name": "ipython",
    "version": 3
   },
   "file_extension": ".py",
   "mimetype": "text/x-python",
   "name": "python",
   "nbconvert_exporter": "python",
   "pygments_lexer": "ipython3",
   "version": "3.8.5"
  }
 },
 "nbformat": 4,
 "nbformat_minor": 4
}
